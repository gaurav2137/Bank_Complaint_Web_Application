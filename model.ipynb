{
 "cells": [
  {
   "cell_type": "code",
   "execution_count": 9,
   "metadata": {},
   "outputs": [],
   "source": [
    "import pandas as pd\n",
    "import numpy as np\n",
    "import matplotlib.pyplot as plt\n",
    "import seaborn as sns\n",
    "%matplotlib inline\n",
    "import warnings\n",
    "warnings.filterwarnings(\"ignore\")"
   ]
  },
  {
   "cell_type": "code",
   "execution_count": 10,
   "metadata": {},
   "outputs": [],
   "source": [
    "df = pd.read_csv(\"com.csv\")"
   ]
  },
  {
   "cell_type": "code",
   "execution_count": 11,
   "metadata": {},
   "outputs": [
    {
     "data": {
      "text/html": [
       "<div>\n",
       "<style scoped>\n",
       "    .dataframe tbody tr th:only-of-type {\n",
       "        vertical-align: middle;\n",
       "    }\n",
       "\n",
       "    .dataframe tbody tr th {\n",
       "        vertical-align: top;\n",
       "    }\n",
       "\n",
       "    .dataframe thead th {\n",
       "        text-align: right;\n",
       "    }\n",
       "</style>\n",
       "<table border=\"1\" class=\"dataframe\">\n",
       "  <thead>\n",
       "    <tr style=\"text-align: right;\">\n",
       "      <th></th>\n",
       "      <th>index</th>\n",
       "      <th>complaint</th>\n",
       "      <th>Product</th>\n",
       "      <th>target</th>\n",
       "    </tr>\n",
       "  </thead>\n",
       "  <tbody>\n",
       "    <tr>\n",
       "      <th>0</th>\n",
       "      <td>0</td>\n",
       "      <td>This auto loan was opened on XX/XX/2020 in XXX...</td>\n",
       "      <td>Vehicle loan or lease</td>\n",
       "      <td>5</td>\n",
       "    </tr>\n",
       "    <tr>\n",
       "      <th>1</th>\n",
       "      <td>1</td>\n",
       "      <td>In XXXX of 2019 I noticed a debt for {$620.00}...</td>\n",
       "      <td>Debt collection</td>\n",
       "      <td>0</td>\n",
       "    </tr>\n",
       "    <tr>\n",
       "      <th>2</th>\n",
       "      <td>2</td>\n",
       "      <td>As stated from Capital One, XXXX XX/XX/XXXX an...</td>\n",
       "      <td>Vehicle loan or lease</td>\n",
       "      <td>5</td>\n",
       "    </tr>\n",
       "    <tr>\n",
       "      <th>3</th>\n",
       "      <td>3</td>\n",
       "      <td>Please see CFPB case XXXX. \\n\\nCapital One, in...</td>\n",
       "      <td>Checking or savings account</td>\n",
       "      <td>3</td>\n",
       "    </tr>\n",
       "    <tr>\n",
       "      <th>4</th>\n",
       "      <td>4</td>\n",
       "      <td>This debt was incurred due to medical malpract...</td>\n",
       "      <td>Debt collection</td>\n",
       "      <td>0</td>\n",
       "    </tr>\n",
       "    <tr>\n",
       "      <th>...</th>\n",
       "      <td>...</td>\n",
       "      <td>...</td>\n",
       "      <td>...</td>\n",
       "      <td>...</td>\n",
       "    </tr>\n",
       "    <tr>\n",
       "      <th>6994</th>\n",
       "      <td>6994</td>\n",
       "      <td>I have a very strong credit history, with a sc...</td>\n",
       "      <td>Credit card or prepaid card</td>\n",
       "      <td>1</td>\n",
       "    </tr>\n",
       "    <tr>\n",
       "      <th>6995</th>\n",
       "      <td>6995</td>\n",
       "      <td>I am a victim of identity theft and this debt ...</td>\n",
       "      <td>Debt collection</td>\n",
       "      <td>0</td>\n",
       "    </tr>\n",
       "    <tr>\n",
       "      <th>6996</th>\n",
       "      <td>6996</td>\n",
       "      <td>Disputed transaction for unauthorized charge b...</td>\n",
       "      <td>Credit card or prepaid card</td>\n",
       "      <td>1</td>\n",
       "    </tr>\n",
       "    <tr>\n",
       "      <th>6997</th>\n",
       "      <td>6997</td>\n",
       "      <td>On XX/XX/2018 I was marked for {$620.00} on an...</td>\n",
       "      <td>Debt collection</td>\n",
       "      <td>0</td>\n",
       "    </tr>\n",
       "    <tr>\n",
       "      <th>6998</th>\n",
       "      <td>6999</td>\n",
       "      <td>Today, XX/XX/19, I received a statement from S...</td>\n",
       "      <td>Mortgage</td>\n",
       "      <td>2</td>\n",
       "    </tr>\n",
       "  </tbody>\n",
       "</table>\n",
       "<p>6999 rows × 4 columns</p>\n",
       "</div>"
      ],
      "text/plain": [
       "      index                                          complaint  \\\n",
       "0         0  This auto loan was opened on XX/XX/2020 in XXX...   \n",
       "1         1  In XXXX of 2019 I noticed a debt for {$620.00}...   \n",
       "2         2  As stated from Capital One, XXXX XX/XX/XXXX an...   \n",
       "3         3  Please see CFPB case XXXX. \\n\\nCapital One, in...   \n",
       "4         4  This debt was incurred due to medical malpract...   \n",
       "...     ...                                                ...   \n",
       "6994   6994  I have a very strong credit history, with a sc...   \n",
       "6995   6995  I am a victim of identity theft and this debt ...   \n",
       "6996   6996  Disputed transaction for unauthorized charge b...   \n",
       "6997   6997  On XX/XX/2018 I was marked for {$620.00} on an...   \n",
       "6998   6999  Today, XX/XX/19, I received a statement from S...   \n",
       "\n",
       "                          Product  target  \n",
       "0           Vehicle loan or lease       5  \n",
       "1                 Debt collection       0  \n",
       "2           Vehicle loan or lease       5  \n",
       "3     Checking or savings account       3  \n",
       "4                 Debt collection       0  \n",
       "...                           ...     ...  \n",
       "6994  Credit card or prepaid card       1  \n",
       "6995              Debt collection       0  \n",
       "6996  Credit card or prepaid card       1  \n",
       "6997              Debt collection       0  \n",
       "6998                     Mortgage       2  \n",
       "\n",
       "[6999 rows x 4 columns]"
      ]
     },
     "execution_count": 11,
     "metadata": {},
     "output_type": "execute_result"
    }
   ],
   "source": [
    "df"
   ]
  },
  {
   "cell_type": "code",
   "execution_count": 12,
   "metadata": {},
   "outputs": [],
   "source": [
    "def encode_genre(genre):\n",
    "    if genre == \"Debt collection\":\n",
    "        return 1\n",
    "    elif genre == \"Credit card or prepaid card\":\n",
    "        return 2\n",
    "    elif genre == \"Mortgage\":\n",
    "        return 3\n",
    "    elif genre == \"Checking or savings account\":\n",
    "        return 4\n",
    "    elif genre == \"Student loan\":\n",
    "        return 5\n",
    "    elif genre == \"Vehicle loan or lease\":\n",
    "        return 6\n",
    "\n",
    "df['Product1'] = df['Product'].apply(encode_genre)"
   ]
  },
  {
   "cell_type": "code",
   "execution_count": 13,
   "metadata": {},
   "outputs": [
    {
     "name": "stdout",
     "output_type": "stream",
     "text": [
      "Load 6299 training examples and 700 validation examples. \n",
      "\n",
      "Show a review in the training set : \n",
      " In XX/XX/XXXX, I received a loan modification for the mortgage on my home that I have lived in for 22 years. It was a principal and interest only loan, with my monthly payment totaling {$440.00}. The loan was made possible by extending the years on my previous mortgage, which thereby lowered my payments. The interest rate was fixed for a 30-year term. In order to be accepted for this modification, I had to go through a 3 month trial period to ensure full payments of {$440.00} were made by the first of each month. I met this requirement and therefore, my mortgage payment stayed at the rate of {$440.00} for the remainder ofthe loan. I knew that this was a principal and interest loan, and that I was responsible for paying real estate taxes and home owner 's insurance, as was directed on the signed contract. I continued to pay my taxes and home insurance and am current on all payments up to this date, XX/XX/19. \n",
      "\n",
      "Approximately a little over a year after my XX/XX/XXXX modification started, I received a bill from Citizen 's Bank/CCO Mortgage stating I owed approximately {$5000.00}. They said that they had mistakenly not included escrow in the modification from XX/XX/XXXX and  therefore, owed this amount. But, I had paid the town of XXXX, MA for all the real estate taxed owed as well as paid my home owner 's insurance. I tried to set up an escrow account with CCO mortgage from that date forward, and provided them with proof of all the last year 's taxes and insurance payments. They did not agree to this. I have made several attempts to resolve this issue and am still paying real estate taxes and home owner 's insurance, as well as my {$440.00} monthly mortgage payment. CCO Mortgage claims that they have been paying the real estate taxes and insurance, and now say I owe them thousands of dollars, as this issue has gone back and forth for the past few years with no resolution. \n",
      "\n",
      "I have provided to CCO mortgage all documentation and proof of taxes and insurance payments, and can still provide this documentation, if needed. At this time, they are threatening foreclosure, though I've continued to make timely payments. I appreciate receiving the modification, which allows me to stay in my home, and just wish to resolve this issue as prorrptly as possible.\n"
     ]
    },
    {
     "data": {
      "text/plain": [
       "(6199    Lockhart Morris an unknown company collecting ...\n",
       " 72      On XX/XX/XXXX, I was notified that my new Citi...\n",
       " 2571    Back in XXXX of 2019 Sychrony bank lowered my ...\n",
       " 6270    Mortgage company fraudulently debited bank acc...\n",
       " 3608    XX/XX/XXXX received call we let go to voicemai...\n",
       "                               ...                        \n",
       " 4931    My card was charged in Fall of 2018 for charge...\n",
       " 3264    i been receipting numerous calls from Mid West...\n",
       " 1653    XX/XX/20 account was paid in a settlement with...\n",
       " 2607    I have contacted the collection agency AD Astr...\n",
       " 2732    XX/XX/2020 this company has not sent any lette...\n",
       " Name: complaint, Length: 6299, dtype: object,\n",
       " 6199    1\n",
       " 72      2\n",
       " 2571    2\n",
       " 6270    3\n",
       " 3608    2\n",
       "        ..\n",
       " 4931    2\n",
       " 3264    1\n",
       " 1653    1\n",
       " 2607    1\n",
       " 2732    1\n",
       " Name: Product1, Length: 6299, dtype: int64)"
      ]
     },
     "execution_count": 13,
     "metadata": {},
     "output_type": "execute_result"
    }
   ],
   "source": [
    "from sklearn.model_selection import train_test_split\n",
    "X_train, X_test, y_train, y_test = train_test_split(df['complaint'], df['Product1'],test_size=0.1, random_state=0)\n",
    "\n",
    "print('Load %d training examples and %d validation examples. \\n' %(X_train.shape[0],X_test.shape[0]))\n",
    "print('Show a review in the training set : \\n', X_train.iloc[10])\n",
    "X_train,y_train"
   ]
  },
  {
   "cell_type": "code",
   "execution_count": 15,
   "metadata": {},
   "outputs": [],
   "source": [
    "def cleanText(raw_text, remove_stopwords=False, stemming=False, split_text=False):\n",
    "    '''\n",
    "    Convert a raw review to a cleaned review\n",
    "    '''\n",
    "    text = BeautifulSoup(raw_text, 'html.parser').get_text()\n",
    "    letters_only = re.sub(\"[^a-zA-Z]\", \" \", text)\n",
    "    words = letters_only.lower().split() \n",
    "    \n",
    "    if remove_stopwords:\n",
    "        stops = set(stopwords.words(\"english\"))\n",
    "        words = [w for w in words if not w in stops]\n",
    "        \n",
    "    if stemming==True:\n",
    "\n",
    "        stemmer = SnowballStemmer('english') \n",
    "        words = [stemmer.stem(w) for w in words]\n",
    "        \n",
    "    if split_text==True:\n",
    "        return (words)\n",
    "    \n",
    "    return( \" \".join(words))"
   ]
  },
  {
   "cell_type": "code",
   "execution_count": 16,
   "metadata": {},
   "outputs": [
    {
     "name": "stdout",
     "output_type": "stream",
     "text": [
      "Show a cleaned review in the training set : \n",
      " in xx xx xxxx i received a loan modification for the mortgage on my home that i have lived in for years it was a principal and interest only loan with my monthly payment totaling the loan was made possible by extending the years on my previous mortgage which thereby lowered my payments the interest rate was fixed for a year term in order to be accepted for this modification i had to go through a month trial period to ensure full payments of were made by the first of each month i met this requirement and therefore my mortgage payment stayed at the rate of for the remainder ofthe loan i knew that this was a principal and interest loan and that i was responsible for paying real estate taxes and home owner s insurance as was directed on the signed contract i continued to pay my taxes and home insurance and am current on all payments up to this date xx xx approximately a little over a year after my xx xx xxxx modification started i received a bill from citizen s bank cco mortgage stating i owed approximately they said that they had mistakenly not included escrow in the modification from xx xx xxxx and therefore owed this amount but i had paid the town of xxxx ma for all the real estate taxed owed as well as paid my home owner s insurance i tried to set up an escrow account with cco mortgage from that date forward and provided them with proof of all the last year s taxes and insurance payments they did not agree to this i have made several attempts to resolve this issue and am still paying real estate taxes and home owner s insurance as well as my monthly mortgage payment cco mortgage claims that they have been paying the real estate taxes and insurance and now say i owe them thousands of dollars as this issue has gone back and forth for the past few years with no resolution i have provided to cco mortgage all documentation and proof of taxes and insurance payments and can still provide this documentation if needed at this time they are threatening foreclosure though i ve continued to make timely payments i appreciate receiving the modification which allows me to stay in my home and just wish to resolve this issue as prorrptly as possible\n"
     ]
    }
   ],
   "source": [
    "\n",
    "import re\n",
    "import nltk\n",
    "from nltk.corpus import stopwords \n",
    "from nltk.stem.porter import PorterStemmer\n",
    "from nltk.stem import SnowballStemmer, WordNetLemmatizer\n",
    "from nltk import sent_tokenize, word_tokenize, pos_tag\n",
    "from bs4 import BeautifulSoup\n",
    "import logging\n",
    "from wordcloud import WordCloud\n",
    "from gensim.models import word2vec\n",
    "from gensim.models import Word2Vec\n",
    "from gensim.models.keyedvectors import KeyedVectors\n",
    "\n",
    "X_train_cleaned = []\n",
    "X_test_cleaned = []\n",
    "\n",
    "for d in X_train:\n",
    "    X_train_cleaned.append(cleanText(d))\n",
    "print('Show a cleaned review in the training set : \\n',  X_train_cleaned[10])\n",
    "    \n",
    "for d in X_test:\n",
    "    X_test_cleaned.append(cleanText(d))"
   ]
  },
  {
   "cell_type": "code",
   "execution_count": 17,
   "metadata": {},
   "outputs": [
    {
     "name": "stdout",
     "output_type": "stream",
     "text": [
      "Number of features : 15777 \n",
      "\n",
      "Show some feature names : \n",
      " ['aa', 'asset', 'capacity', 'contraband', 'disappointment', 'exceptionally', 'gen', 'incapable', 'let', 'mustve', 'pennys', 'randomly', 'rig', 'speedy', 'tht', 'verifiable']\n"
     ]
    }
   ],
   "source": [
    "from sklearn.feature_extraction.text import CountVectorizer,TfidfVectorizer\n",
    "from sklearn.naive_bayes import BernoulliNB, MultinomialNB\n",
    "countVect = CountVectorizer() \n",
    "X_train_countVect = countVect.fit_transform(X_train_cleaned)\n",
    "print(\"Number of features : %d \\n\" %len(countVect.get_feature_names()))\n",
    "print(\"Show some feature names : \\n\", countVect.get_feature_names()[::1000])"
   ]
  },
  {
   "cell_type": "code",
   "execution_count": 18,
   "metadata": {},
   "outputs": [
    {
     "data": {
      "text/plain": [
       "((6299, 15777), (6299,))"
      ]
     },
     "execution_count": 18,
     "metadata": {},
     "output_type": "execute_result"
    }
   ],
   "source": [
    "X_train_countVect.shape,y_train.shape"
   ]
  },
  {
   "cell_type": "code",
   "execution_count": 19,
   "metadata": {},
   "outputs": [
    {
     "data": {
      "text/plain": [
       "MultinomialNB()"
      ]
     },
     "execution_count": 19,
     "metadata": {},
     "output_type": "execute_result"
    }
   ],
   "source": [
    "mnb = MultinomialNB()\n",
    "mnb.fit(X_train_countVect, y_train)"
   ]
  },
  {
   "cell_type": "code",
   "execution_count": 20,
   "metadata": {},
   "outputs": [],
   "source": [
    "from sklearn import metrics\n",
    "from sklearn.metrics import accuracy_score,roc_auc_score\n",
    "def modelEvaluation(predictions):\n",
    "    '''\n",
    "    Print model evaluation to predicted result \n",
    "    '''\n",
    "    print (\"\\nAccuracy on validation set: {:.4f}\".format(accuracy_score(y_test, predictions)))\n",
    "    print(\"\\nClassification report : \\n\", metrics.classification_report(y_test, predictions))\n",
    "    print(\"\\nConfusion Matrix : \\n\", metrics.confusion_matrix(y_test, predictions))"
   ]
  },
  {
   "cell_type": "code",
   "execution_count": null,
   "metadata": {},
   "outputs": [
    {
     "name": "stdout",
     "output_type": "stream",
     "text": [
      "\n",
      "Accuracy on validation set: 0.8729\n",
      "\n",
      "Classification report : \n",
      "               precision    recall  f1-score   support\n",
      "\n",
      "           1       0.91      0.91      0.91       274\n",
      "           2       0.85      0.87      0.86       152\n",
      "           3       0.85      0.99      0.91       112\n",
      "           4       0.90      0.82      0.86        87\n",
      "           5       0.76      0.76      0.76        37\n",
      "           6       0.81      0.55      0.66        38\n",
      "\n",
      "    accuracy                           0.87       700\n",
      "   macro avg       0.85      0.82      0.83       700\n",
      "weighted avg       0.87      0.87      0.87       700\n",
      "\n",
      "\n",
      "Confusion Matrix : \n",
      " [[248   6  10   5   2   3]\n",
      " [ 11 132   1   3   4   1]\n",
      " [  0   1 111   0   0   0]\n",
      " [  4  11   0  71   0   1]\n",
      " [  5   2   2   0  28   0]\n",
      " [  4   3   7   0   3  21]]\n"
     ]
    }
   ],
   "source": [
    "predictions = mnb.predict(countVect.transform(X_test_cleaned))\n",
    "modelEvaluation(predictions)"
   ]
  },
  {
   "cell_type": "code",
   "execution_count": 21,
   "metadata": {},
   "outputs": [
    {
     "data": {
      "text/plain": [
       "<6299x15777 sparse matrix of type '<class 'numpy.int64'>'\n",
       "\twith 631752 stored elements in Compressed Sparse Row format>"
      ]
     },
     "execution_count": 21,
     "metadata": {},
     "output_type": "execute_result"
    }
   ],
   "source": [
    "X_train_countVect"
   ]
  },
  {
   "cell_type": "code",
   "execution_count": 22,
   "metadata": {},
   "outputs": [],
   "source": [
    "import pickle"
   ]
  },
  {
   "cell_type": "code",
   "execution_count": 23,
   "metadata": {},
   "outputs": [],
   "source": [
    "pickle.dump(mnb,open('Naive_Bayes_model.pkl','wb'))"
   ]
  },
  {
   "cell_type": "code",
   "execution_count": 24,
   "metadata": {},
   "outputs": [],
   "source": [
    "import pickle"
   ]
  },
  {
   "cell_type": "code",
   "execution_count": 25,
   "metadata": {},
   "outputs": [],
   "source": [
    "pickle.dump(countVect,open('countVect_Genre.pkl','wb'))"
   ]
  },
  {
   "cell_type": "code",
   "execution_count": null,
   "metadata": {},
   "outputs": [],
   "source": []
  }
 ],
 "metadata": {
  "kernelspec": {
   "display_name": "Python 3",
   "language": "python",
   "name": "python3"
  },
  "language_info": {
   "codemirror_mode": {
    "name": "ipython",
    "version": 3
   },
   "file_extension": ".py",
   "mimetype": "text/x-python",
   "name": "python",
   "nbconvert_exporter": "python",
   "pygments_lexer": "ipython3",
   "version": "3.8.5"
  }
 },
 "nbformat": 4,
 "nbformat_minor": 4
}
